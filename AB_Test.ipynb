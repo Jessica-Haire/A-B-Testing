{
 "cells": [
  {
   "cell_type": "code",
   "execution_count": 20,
   "metadata": {},
   "outputs": [
    {
     "name": "stdout",
     "output_type": "stream",
     "text": [
      "Conversion rate control group:  0.2814814814814815 \n",
      "Conversion rate personalised group:  0.3908450704225352\n",
      "Differnce in conversion rate:  0.10936358894105369\n",
      "lift: 38.85%\n",
      "Ttest_indResult(statistic=2.734329944750507, pvalue=0.006451487844694182)\n"
     ]
    }
   ],
   "source": [
    "import pandas as pd\n",
    "import numpy as np\n",
    "from scipy.stats import ttest_ind\n",
    "import dc_stat_think as dcst\n",
    "\n",
    "#Import data\n",
    "df = pd.read_csv('marketing_new.csv')\n",
    "\n",
    "# Setting up the data -- slice the channel of interest\n",
    "email = df[df['marketing_channel'] == 'Email']\n",
    "\n",
    "# Group by user_id and variant (control and personalised)\n",
    "subscribers = email.groupby(['user_id', 'variant'])['converted'].max()\n",
    "\n",
    "# Convert array to dataframe\n",
    "subscribers = pd.DataFrame(subscribers.unstack(level=1))\n",
    "\n",
    "# Drop missing values\n",
    "control = subscribers['control'].dropna()\n",
    "personalised = subscribers['personalization'].dropna()\n",
    "\n",
    "# Convert control and personalised arrays to numeric data type for the ttest_ind() function\n",
    "control = control.astype(float)\n",
    "personalised = personalised.astype(float)\n",
    "\n",
    "# Calculate the conversion rate\n",
    "control_mean = np.mean(control)\n",
    "personalised_mean = np.mean(personalised)\n",
    "\n",
    "# Compute the difference of means\n",
    "difference = personalised_mean - control_mean\n",
    "\n",
    "#print results\n",
    "print('Conversion rate control group: ', control_mean, '\\nConversion rate personalised group: ', personalised_mean)\n",
    "print('Differnce in conversion rate: ', difference )\n",
    "\n",
    "# Is this difference statistically significant? Calculate Lift to further investigate\n",
    "# METHOD 1 \n",
    "lift = difference/control_mean\n",
    "print('lift:', str(round(lift*100, 2)) + '%')\n",
    "\n",
    "# Conduct a two-sample t-test\n",
    "t = ttest_ind(personalised, control)\n",
    "print(t)\n",
    "# Result: reject null hypothesis"
   ]
  },
  {
   "cell_type": "code",
   "execution_count": 19,
   "metadata": {},
   "outputs": [
    {
     "name": "stdout",
     "output_type": "stream",
     "text": [
      "Differnce in conversion rate:  0.10936358894105369 \n",
      "P_value 0.0036 \n",
      "Result: Reject the null hypothesis\n"
     ]
    }
   ],
   "source": [
    "# METHOD 2\n",
    "# Use permutation Test Method to conduct A/B Test on the same data\n",
    "def diff_frac(data_A, data_B):\n",
    "    frac_A = np.sum(data_A)/len(data_A)\n",
    "    frac_B = np.sum(data_B)/len(data_B)\n",
    "    return frac_A - frac_B\n",
    "\n",
    "# Compute observed test statistic\n",
    "diff_frac_obs = diff_frac(personalised, control)\n",
    "\n",
    "# Functions\n",
    "# Inner function\n",
    "def permutation_sample(data_1, data_2):\n",
    "    data = np.concatenate((data_1, data_2))\n",
    "    permutted_data = np.random.permutation(data)\n",
    "    perm_sample_1 = permutted_data[:len(data_1)]\n",
    "    perm_sample_2 = permutted_data[len(data_1):]\n",
    "    return perm_sample_1, perm_sample_2\n",
    "\n",
    "# Outer function\n",
    "def draw_perm_reps(data_1, data_2, func, size=1):\n",
    "    perm_replicates = np.empty(size)\n",
    "    for i in range(size):\n",
    "        perm_sample_1, perm_sample_2 = permutation_sample(data_1, data_2)\n",
    "        perm_replicates[i] = func(perm_sample_1, perm_sample_2)\n",
    "    return perm_replicates\n",
    "\n",
    "# Acquire 10000 replicates\n",
    "perm_replicates = np.empty(10000)\n",
    "for i in range(10000):\n",
    "    perm_replicates[i] = draw_perm_reps(personalised, control, diff_frac)\n",
    "\n",
    "p_value = np.sum(perm_replicates >= diff_frac_obs)/10000\n",
    "\n",
    "# Display output\n",
    "print('Differnce in conversion rate: ', diff_frac_obs, '\\nP_value', p_value, '\\nResult: Reject the null hypothesis')\n",
    "\n",
    "# Result: reject null hypothesis\n",
    "\n",
    "# Despite the slight difference in p-values, both tests yield statistically significant results considering the threshold of 0.05. \n",
    "# This indicates strong evidence against the null hypothesis and supports the conclusion of a significant difference between the groups."
   ]
  },
  {
   "cell_type": "code",
   "execution_count": 18,
   "metadata": {},
   "outputs": [
    {
     "name": "stdout",
     "output_type": "stream",
     "text": [
      "Test Statistic is the same value as was returned by the ttest_in() function in Method 1:  2.744918360261471 \n",
      "The p-value falls between 0.005 and 0.0025, so we do reject the null hypothesis as was the case in Methods 1 and 2.\n"
     ]
    }
   ],
   "source": [
    "# METHOD 3 -- using the formula for calculating the t-statistic, \n",
    "# and looking up the p-value in the t-Distribution Critical Values Table\n",
    "s1 = np.std(control)\n",
    "s2 = np.std(personalised)\n",
    "\n",
    "n1 = len(control)\n",
    "n2 = len(personalised)\n",
    "\n",
    "test_stat = difference/ np.sqrt((s1**2/n1) + (s2**2/n2))\n",
    "\n",
    "degrees_of_freedom = (n1 - 1) + (n2 - 1)\n",
    "print('Test Statistic is the same value as was returned by the ttest_ind() function in Method 1: ', test_stat,\n",
    "      '\\nThe p-value falls between 0.005 and 0.0025, so we do reject the null hypothesis as was the case in Methods 1 and 2.')\n",
    "\n",
    "# p-value according to the table falls between .005 and .0025"
   ]
  }
 ],
 "metadata": {
  "kernelspec": {
   "display_name": "base",
   "language": "python",
   "name": "python3"
  },
  "language_info": {
   "codemirror_mode": {
    "name": "ipython",
    "version": 3
   },
   "file_extension": ".py",
   "mimetype": "text/x-python",
   "name": "python",
   "nbconvert_exporter": "python",
   "pygments_lexer": "ipython3",
   "version": "3.10.11"
  },
  "orig_nbformat": 4
 },
 "nbformat": 4,
 "nbformat_minor": 2
}
